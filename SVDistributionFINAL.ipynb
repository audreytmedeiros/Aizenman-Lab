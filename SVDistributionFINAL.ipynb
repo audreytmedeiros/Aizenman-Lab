{
 "cells": [
  {
   "cell_type": "markdown",
   "metadata": {},
   "source": [
    "# SV Distribution\n",
    "## Goal\n",
    "The goal of this code is to create csv files with the distances of each synaptic vesicle (SV) to the nearest point on the active zone (AZ) line. This should be separated by condition.\n",
    "\n",
    "## What you need to run this code: \n",
    "1. You need a SV.zip file in every synapse folder. This zip file contains ROIs for each SV in that synapse. There can only be one zip file in that folder that ends with SV.zip. Ensure that is your final SV count.\n",
    "2. You need an AZ.txt file. This is explained below:\n",
    "    * Open synapse image in Fiji and open plasma membrane PM.zip file in ROI manager. \n",
    "    * Draw a freehand line along the AZ, using your PM ROIs as boundaries\n",
    "    * Select your AZ line --> File--> Save as...--> XY Coordinates. \n",
    "    * Save in Syn__ folder as Syn__AZ.txt\n",
    "        * This file is a list of some coordinates on your line, NOT all of them. The code will fix that. \n",
    "3. You need a main folder, mine was called Synapse Files. If yours is different, you need to change the code in \"call previous function while running through folders\" cell in Synapse_files = Path('**YOUR FOLDER NAME**/')\n",
    "    * Under my main Synapse Files folder, I have separate folders for each condition. Within those condition folders, are the folders of synapse files corresponding to that condition."
   ]
  },
  {
   "cell_type": "markdown",
   "metadata": {},
   "source": [
    "## Important Note on AZ file format\n",
    "If you saved your AZ.txt line with no scale on Fiji, img_conversion= 3716px/inch\n",
    "\n",
    "If you saved your AZ.txt file while doing other analysis and you saved it with a scale, your img_conversion =0.27px/nm\n",
    "\n",
    "You can tell because if you saved the file with no scale, opening up your AZ.txt file will give you numbers in the 0.16 range, whereas if you have a scale you will get numbers in the 1600.00 range. You can choose one or the other BUT they all have to be the same!"
   ]
  },
  {
   "cell_type": "code",
   "execution_count": 1,
   "metadata": {},
   "outputs": [],
   "source": [
    "#Import packages \n",
    "import numpy as np\n",
    "import pandas as pd\n",
    "import matplotlib.pyplot as plt\n",
    "from pathlib import Path\n",
    "import zipfile\n",
    "import seaborn as sns\n",
    "from tqdm import tqdm\n",
    "sns.set()"
   ]
  },
  {
   "cell_type": "markdown",
   "metadata": {},
   "source": [
    "## Define a function to find the shortest distance between all SVs and the AZ line for each synapse.\n",
    "This function is called vesicle_distances. It takes one argument, which is is the path for our synapse folders. This does not run the function yet, we will do that in the next cell.\n"
   ]
  },
  {
   "cell_type": "code",
   "execution_count": 4,
   "metadata": {},
   "outputs": [],
   "source": [
    "def vesicle_distances(syn_path):\n",
    "#Code to turn AZ line into X,Y coordinates\n",
    "    img_conversion = 3716 #px/inch. \n",
    "\n",
    "    #Define our path as anything in folders with an AZ.txt in it    \n",
    "    az_txt = syn_path / Path(syn_path.name + 'AZ.txt')\n",
    "    \n",
    "    #Read the X,Y coordinates from the AZ.txt file and convert to pixels\n",
    "    df = np.round(pd.read_table(str(az_txt), header=None)*img_conversion, decimals=0)\n",
    "    df_diff = df.diff()\n",
    "    \n",
    "    #Finding Euclidean distance\n",
    "    df_ed = np.sqrt(df_diff.iloc[:,0]**2 +df_diff.iloc[:,1]**2) \n",
    "        #This code will only give you some pixel X,Y coordinates, not everything on that line\n",
    "    \n",
    "    #Get the distances of all X,Y coordinates on that line:\n",
    "    #If the distance between 2 pixel points is more than 1, fill in the blanks by 1 to make a continuous line\n",
    "    x_fin, y_fin = [], [] \n",
    "    for i in range(len(df)): \n",
    "        x, y = df.iloc[i,:]\n",
    "        x_fin.append(x)\n",
    "        y_fin.append(y)\n",
    "        if i == len(df) - 1:\n",
    "            continue\n",
    "        if df_ed.iloc[i+1] < 1.1:\n",
    "            continue\n",
    "        x_fin += list(np.linspace(x, df.iloc[i+1,0], int(df_ed[i+1])))\n",
    "        y_fin += list(np.linspace(y, df.iloc[i+1,1], int(df_ed[i+1])))\n",
    "    \n",
    "    #Create an array for all X,Y coordinates along your AZ line\n",
    "    L = np.array([x_fin,y_fin]).T    \n",
    "\n",
    "    #Self check: If you want to see all of your X,Y values of your line now, uncomment Ltable_pd\n",
    "    #Ltabletest = {'X values':x_fin, 'Y values':y_fin}\n",
    "    #Ltable_pd = pd.DataFrame(Ltabletest)\n",
    "    # Ltable_pd\n",
    "        #Notice now none of the values are more than 1px apart\n",
    "        \n",
    " #Code to extract X,Y coordinates from SV ROIs      \n",
    "    ##Create path where all ROIs are    \n",
    "    vesicle_path = syn_path / Path(syn_path.name + 'SV')\n",
    "    assert vesicle_path.is_dir()\n",
    "\n",
    "    #Make an array called names where you will put the X,Y coordinates from each ROI file name\n",
    "    names = []\n",
    "    for file in vesicle_path.iterdir():\n",
    "        names.append(file.stem)\n",
    "\n",
    "    #Create arrays for X and Y coordinates for each SV    \n",
    "    names_split = [name.split('-') for name in names]\n",
    "    v_x, v_y = [], []\n",
    "    for y_str, x_str in names_split:\n",
    "        v_x.append(int(x_str))\n",
    "        v_y.append(int(y_str))\n",
    "        \n",
    "    #Create an array for all X,Y coordinates of all SVs    \n",
    "    V = np.array([v_x,v_y]).T \n",
    "\n",
    "    #Self check: If you want to see all of your X,Y values of your SVs, uncomment Vtable_pd\n",
    "    #Vtabletest = {'X values':v_x, 'Y values':v_y}\n",
    "    #Vtable_pd = pd.DataFrame(Vtabletest)\n",
    "    #Vtable_pd\n",
    "\n",
    "#Code to find the distance from each ROI in V(vesicles) to any one point in L(AZline)\n",
    "    min_dist= []\n",
    "    for v in V:\n",
    "        d_v = []\n",
    "        for p in L:\n",
    "            d_v.append(distance(v,p))\n",
    "        min_dist.append(np.min(d_v))\n",
    "    \n",
    "    #Create an array of the shortest distance of each SV ROI to the coordinates of the line\n",
    "    SVdistances = np.array(min_dist)/0.27\n",
    "\n",
    "    return SVdistances, min_dist, L, V"
   ]
  },
  {
   "cell_type": "markdown",
   "metadata": {},
   "source": [
    "## Call the previous function while running through folders.\n",
    "This will go through our folders, add in an unzipped SV folder, call our previous vesicle_distance function for each Synfolder, and save our files."
   ]
  },
  {
   "cell_type": "code",
   "execution_count": 5,
   "metadata": {},
   "outputs": [
    {
     "name": "stdout",
     "output_type": "stream",
     "text": [
      "C:\\Users\\audre\\Documents\\GitHub\\Aizenman-Lab\\Synapse Files\n",
      "Beginning loop through condition Control\n"
     ]
    },
    {
     "name": "stderr",
     "output_type": "stream",
     "text": [
      "\n",
      "0it [00:00, ?it/s]"
     ]
    },
    {
     "name": "stdout",
     "output_type": "stream",
     "text": [
      "Found all distance files, skipping Synapse Files\\Control\\Syn20...\n",
      "Found all distance files, skipping Synapse Files\\Control\\Syn21...\n",
      "Found all distance files, skipping Synapse Files\\Control\\Syn22...\n",
      "Found all distance files, skipping Synapse Files\\Control\\Syn23...\n",
      "Found all distance files, skipping Synapse Files\\Control\\Syn24...\n",
      "Found all distance files, skipping Synapse Files\\Control\\Syn25...\n",
      "Found all distance files, skipping Synapse Files\\Control\\Syn26...\n",
      "Found all distance files, skipping Synapse Files\\Control\\Syn27...\n",
      "Found all distance files, skipping Synapse Files\\Control\\Syn28...\n",
      "Found all distance files, skipping Synapse Files\\Control\\Syn29...\n",
      "Found all distance files, skipping Synapse Files\\Control\\Syn30...\n",
      "Found all distance files, skipping Synapse Files\\Control\\Syn35...\n",
      "Found all distance files, skipping Synapse Files\\Control\\Syn36...\n",
      "Found all distance files, skipping Synapse Files\\Control\\Syn37...\n",
      "Found all distance files, skipping Synapse Files\\Control\\Syn43...\n",
      "Found all distance files, skipping Synapse Files\\Control\\Syn44...\n",
      "Found all distance files, skipping Synapse Files\\Control\\Syn45...\n"
     ]
    },
    {
     "ename": "KeyboardInterrupt",
     "evalue": "",
     "output_type": "error",
     "traceback": [
      "\u001b[1;31m---------------------------------------------------------------------------\u001b[0m",
      "\u001b[1;31mKeyboardInterrupt\u001b[0m                         Traceback (most recent call last)",
      "\u001b[1;32m<ipython-input-5-96d422ea3c3a>\u001b[0m in \u001b[0;36m<module>\u001b[1;34m\u001b[0m\n\u001b[0;32m     36\u001b[0m \u001b[1;33m\u001b[0m\u001b[0m\n\u001b[0;32m     37\u001b[0m        \u001b[1;31m#Call our vesicle_distances function to create distances for each Synfolder\u001b[0m\u001b[1;33m\u001b[0m\u001b[1;33m\u001b[0m\u001b[1;33m\u001b[0m\u001b[0m\n\u001b[1;32m---> 38\u001b[1;33m             \u001b[0mvesicle_returns\u001b[0m \u001b[1;33m=\u001b[0m \u001b[0mvesicle_distances\u001b[0m\u001b[1;33m(\u001b[0m\u001b[0mSynfolders\u001b[0m\u001b[1;33m)\u001b[0m\u001b[1;33m\u001b[0m\u001b[1;33m\u001b[0m\u001b[0m\n\u001b[0m\u001b[0;32m     39\u001b[0m             \u001b[1;32mfor\u001b[0m \u001b[0marr\u001b[0m\u001b[1;33m,\u001b[0m \u001b[0mname\u001b[0m \u001b[1;32min\u001b[0m \u001b[0mzip\u001b[0m\u001b[1;33m(\u001b[0m\u001b[0mvesicle_returns\u001b[0m\u001b[1;33m,\u001b[0m \u001b[0mout_file_names\u001b[0m\u001b[1;33m)\u001b[0m\u001b[1;33m:\u001b[0m\u001b[1;33m\u001b[0m\u001b[1;33m\u001b[0m\u001b[0m\n\u001b[0;32m     40\u001b[0m                 \u001b[0mvc_ret_path\u001b[0m \u001b[1;33m=\u001b[0m \u001b[0mPath\u001b[0m\u001b[1;33m(\u001b[0m\u001b[0mSynfolders\u001b[0m \u001b[1;33m/\u001b[0m \u001b[0mname\u001b[0m\u001b[1;33m)\u001b[0m\u001b[1;33m\u001b[0m\u001b[1;33m\u001b[0m\u001b[0m\n",
      "\u001b[1;32m<ipython-input-4-e836d856bc96>\u001b[0m in \u001b[0;36mvesicle_distances\u001b[1;34m(syn_path)\u001b[0m\n\u001b[0;32m     67\u001b[0m         \u001b[0md_v\u001b[0m \u001b[1;33m=\u001b[0m \u001b[1;33m[\u001b[0m\u001b[1;33m]\u001b[0m\u001b[1;33m\u001b[0m\u001b[1;33m\u001b[0m\u001b[0m\n\u001b[0;32m     68\u001b[0m         \u001b[1;32mfor\u001b[0m \u001b[0mp\u001b[0m \u001b[1;32min\u001b[0m \u001b[0mL\u001b[0m\u001b[1;33m:\u001b[0m\u001b[1;33m\u001b[0m\u001b[1;33m\u001b[0m\u001b[0m\n\u001b[1;32m---> 69\u001b[1;33m             \u001b[0md_v\u001b[0m\u001b[1;33m.\u001b[0m\u001b[0mappend\u001b[0m\u001b[1;33m(\u001b[0m\u001b[0mdistance\u001b[0m\u001b[1;33m(\u001b[0m\u001b[0mv\u001b[0m\u001b[1;33m,\u001b[0m\u001b[0mp\u001b[0m\u001b[1;33m)\u001b[0m\u001b[1;33m)\u001b[0m\u001b[1;33m\u001b[0m\u001b[1;33m\u001b[0m\u001b[0m\n\u001b[0m\u001b[0;32m     70\u001b[0m         \u001b[0mmin_dist\u001b[0m\u001b[1;33m.\u001b[0m\u001b[0mappend\u001b[0m\u001b[1;33m(\u001b[0m\u001b[0mnp\u001b[0m\u001b[1;33m.\u001b[0m\u001b[0mmin\u001b[0m\u001b[1;33m(\u001b[0m\u001b[0md_v\u001b[0m\u001b[1;33m)\u001b[0m\u001b[1;33m)\u001b[0m\u001b[1;33m\u001b[0m\u001b[1;33m\u001b[0m\u001b[0m\n\u001b[0;32m     71\u001b[0m \u001b[1;33m\u001b[0m\u001b[0m\n",
      "\u001b[1;32m<ipython-input-5-96d422ea3c3a>\u001b[0m in \u001b[0;36mdistance\u001b[1;34m(v, p)\u001b[0m\n\u001b[0;32m      1\u001b[0m \u001b[1;31m#Define the standard distance formula. v stands for vesicle, p stands for pixel\u001b[0m\u001b[1;33m\u001b[0m\u001b[1;33m\u001b[0m\u001b[1;33m\u001b[0m\u001b[0m\n\u001b[0;32m      2\u001b[0m \u001b[1;32mdef\u001b[0m \u001b[0mdistance\u001b[0m\u001b[1;33m(\u001b[0m\u001b[0mv\u001b[0m\u001b[1;33m,\u001b[0m\u001b[0mp\u001b[0m\u001b[1;33m)\u001b[0m\u001b[1;33m:\u001b[0m\u001b[1;33m\u001b[0m\u001b[1;33m\u001b[0m\u001b[0m\n\u001b[1;32m----> 3\u001b[1;33m     \u001b[1;32mreturn\u001b[0m \u001b[0mnp\u001b[0m\u001b[1;33m.\u001b[0m\u001b[0msqrt\u001b[0m\u001b[1;33m(\u001b[0m\u001b[1;33m(\u001b[0m\u001b[0mv\u001b[0m\u001b[1;33m[\u001b[0m\u001b[1;36m0\u001b[0m\u001b[1;33m]\u001b[0m\u001b[1;33m-\u001b[0m\u001b[0mp\u001b[0m\u001b[1;33m[\u001b[0m\u001b[1;36m0\u001b[0m\u001b[1;33m]\u001b[0m\u001b[1;33m)\u001b[0m\u001b[1;33m**\u001b[0m\u001b[1;36m2\u001b[0m \u001b[1;33m+\u001b[0m\u001b[1;33m(\u001b[0m\u001b[0mv\u001b[0m\u001b[1;33m[\u001b[0m\u001b[1;36m1\u001b[0m\u001b[1;33m]\u001b[0m\u001b[1;33m-\u001b[0m\u001b[0mp\u001b[0m\u001b[1;33m[\u001b[0m\u001b[1;36m1\u001b[0m\u001b[1;33m]\u001b[0m\u001b[1;33m)\u001b[0m\u001b[1;33m**\u001b[0m\u001b[1;36m2\u001b[0m\u001b[1;33m)\u001b[0m\u001b[1;33m\u001b[0m\u001b[1;33m\u001b[0m\u001b[0m\n\u001b[0m\u001b[0;32m      4\u001b[0m \u001b[1;33m\u001b[0m\u001b[0m\n\u001b[0;32m      5\u001b[0m \u001b[1;31m#Dig through folders, locate all SV.zip files and AZ.txt files\u001b[0m\u001b[1;33m\u001b[0m\u001b[1;33m\u001b[0m\u001b[1;33m\u001b[0m\u001b[0m\n",
      "\u001b[1;31mKeyboardInterrupt\u001b[0m: "
     ]
    }
   ],
   "source": [
    "#Define the standard distance formula. v stands for vesicle, p stands for pixel\n",
    "def distance(v,p):\n",
    "    return np.sqrt((v[0]-p[0])**2 +(v[1]-p[1])**2)\n",
    "\n",
    "#Dig through folders, locate all SV.zip files and AZ.txt files\n",
    "Synapse_files = Path('Synapse Files')\n",
    "assert Synapse_files.exists()\n",
    "print(Synapse_files.absolute())\n",
    "\n",
    "for condition in Synapse_files.iterdir():\n",
    "    print('Beginning loop through condition {}'.format(condition.stem))\n",
    "    for Synfolders in tqdm(condition.iterdir()):\n",
    "        syn_sv = Synfolders / Path(Synfolders.name + 'SV.zip')\n",
    "        \n",
    "        #Self check: Do they exist? True, then continues\n",
    "        assert syn_sv.exists(), syn_sv\n",
    "        \n",
    "        syn_az = Synfolders / Path(Synfolders.name + 'AZ.txt')\n",
    "        \n",
    "        #Self check: Do they exist? True, then continues\n",
    "        assert syn_az.exists(), syn_az\n",
    "        \n",
    "        #Unzip all SV.zip files in our Synfolders. If unzipped folder does not exist, make one.\n",
    "        syn_sv_unzipped = Synfolders / syn_sv.stem \n",
    "        if not syn_sv_unzipped.exists():\n",
    "            syn_sv_unzipped.mkdir()\n",
    "            \n",
    "        if not len(list(syn_sv_unzipped.iterdir())):\n",
    "            syn_sv_zip = zipfile.ZipFile(str(syn_sv))\n",
    "            syn_sv_zip.extractall(str(syn_sv_unzipped))\n",
    "        \n",
    "       #Save the four data files ('sv_dist.txt', 'pix_dist.txt', 'L.txt', 'V.txt') in their correct folders\n",
    "        \n",
    "        out_file_names = ['sv_dist.txt', 'pix_dist.txt', 'L.txt', 'V.txt']\n",
    "        if not np.all([Path(Synfolders / out_file).exists() for out_file in out_file_names]):\n",
    "            \n",
    "       #Call our vesicle_distances function to create distances for each Synfolder\n",
    "            vesicle_returns = vesicle_distances(Synfolders)\n",
    "            for arr, name in zip(vesicle_returns, out_file_names):\n",
    "                vc_ret_path = Path(Synfolders / name)\n",
    "                if not vc_ret_path.exists():\n",
    "                    np.savetxt(str(vc_ret_path), arr)\n",
    "            \n",
    "      #Shows us progress while it's working, lets us know when it has completed for each condition             \n",
    "            print('Completed {0}!'.format(Synfolders))\n",
    "        else:\n",
    "            print('Found all distance files, skipping {0}...'.format(Synfolders))\n",
    "    print('Completed synapses for condition {0}'.format(condition.name))"
   ]
  },
  {
   "cell_type": "markdown",
   "metadata": {},
   "source": [
    "## Create/save files that separates synapse distance files by condition.\n",
    "You should have one excel sheet for each condition, and in it you will have synapse specific data."
   ]
  },
  {
   "cell_type": "code",
   "execution_count": 4,
   "metadata": {},
   "outputs": [
    {
     "name": "stdout",
     "output_type": "stream",
     "text": [
      "Created new distance file: Vesicle Distance Files\\aSyn_distances.csv\n",
      "Created new distance file: Vesicle Distance Files\\ConaSyn_distances.csv\n",
      "Created new distance file: Vesicle Distance Files\\ConRes_distances.csv\n",
      "Created new distance file: Vesicle Distance Files\\Rescue_distances.csv\n"
     ]
    }
   ],
   "source": [
    "Synapse_files = Path('Synapse Files/')\n",
    "distance_directory = Path('Vesicle Distance Files/')\n",
    "if not distance_directory.exists():\n",
    "    distance_directory.mkdir()\n",
    "    \n",
    "assert Synapse_files.exists()\n",
    "for condition in Synapse_files.iterdir():\n",
    "    \n",
    "    df = pd.DataFrame()\n",
    "    for Synfolders in condition.iterdir():\n",
    "        df_sv_dist = pd.DataFrame(np.loadtxt(str(Synfolders / 'sv_dist.txt')),\n",
    "                                  columns=[Synfolders.name])\n",
    "        df = pd.concat([df, df_sv_dist], sort=False, axis=1)\n",
    "        \n",
    "    df_path = distance_directory / '{0}_distances.csv'.format(condition.name)\n",
    "    df.to_csv(str(df_path))\n",
    "    print('Created new distance file: {0}'.format(df_path))"
   ]
  },
  {
   "cell_type": "markdown",
   "metadata": {},
   "source": [
    "## This cell defines the flatten function\n",
    "We need the flatten function to compress all distances from all synapses into just one column for each condition.\n",
    "This section/function was written by Abdullah Rashed Ahmed"
   ]
  },
  {
   "cell_type": "code",
   "execution_count": 5,
   "metadata": {},
   "outputs": [],
   "source": [
    "from collections.abc import Iterable\n",
    "\n",
    "def as_list(obj, length=None, tp=None, iter_to_list=True):\n",
    "    \"\"\"\n",
    "    Force an argument to be a list, optionally of a given length, optionally\n",
    "    with all elements cast to a given type if not None.\n",
    "    Parameters\n",
    "    ---------\n",
    "    obj : Object\n",
    "        The obj we want to convert to a list.\n",
    "    length : int or None, optional\n",
    "        Length of new list. Applies if the inputted obj is not an iterable and\n",
    "        iter_to_list is false.\n",
    "    tp : type, optional\n",
    "        Type to cast the values inside the list as.\n",
    "    iter_to_list : bool, optional\n",
    "        Determines if we should cast an iterable (not str) obj as a list or to\n",
    "        enclose it in one.\n",
    "    Returns\n",
    "    -------\n",
    "    obj : list\n",
    "        The object enclosed or cast as a list.\n",
    "    \"\"\"\n",
    "    # If the obj is None, return empty list or fixed-length list of Nones\n",
    "    if obj is None:\n",
    "        if length is None:\n",
    "            return []\n",
    "        return [None] * length\n",
    "    \n",
    "    # If it is already a list do nothing\n",
    "    elif isinstance(obj, list):\n",
    "        pass\n",
    "\n",
    "    # If it is an iterable (and not str), convert it to a list\n",
    "    elif isiterable(obj) and iter_to_list:\n",
    "        obj = list(obj)\n",
    "        \n",
    "    # Otherwise, just enclose in a list making it the inputted length\n",
    "    else:\n",
    "        try:\n",
    "            obj = [obj] * length\n",
    "        except TypeError:\n",
    "            obj = [obj]\n",
    "        \n",
    "    # Cast to type; Let exceptions here bubble up to the top.\n",
    "    if tp is not None:\n",
    "        obj = [tp(o) for o in obj]\n",
    "    return obj\n",
    "\n",
    "def isiterable(obj):\n",
    "    \"\"\"\n",
    "    Function that determines if an object is an iterable, not including \n",
    "    str.\n",
    "    Parameters\n",
    "    ----------\n",
    "    obj : object\n",
    "        Object to test if it is an iterable.\n",
    "    Returns\n",
    "    -------\n",
    "    bool : bool\n",
    "        True if the obj is an iterable, False if not.\n",
    "    \"\"\"\n",
    "    if isinstance(obj, str):\n",
    "        return False\n",
    "    else:\n",
    "        return isinstance(obj, Iterable)\n",
    "\n",
    "def _flatten(inp_iter):\n",
    "    \"\"\"\n",
    "    Recursively iterate through values in nested iterables.\n",
    "    Parameters\n",
    "    ----------\n",
    "    inp_iter : iterable\n",
    "        The iterable to flatten.\n",
    "    Returns\n",
    "    -------\n",
    "    value : object\n",
    "        The contents of the iterable\n",
    "    \"\"\"\n",
    "    for val in inp_iter:\n",
    "        if isiterable(val):\n",
    "            for ival in _flatten(val):\n",
    "                yield ival\n",
    "        else:\n",
    "            yield val\n",
    "            \n",
    "def flatten(inp_iter):\n",
    "    \"\"\"\n",
    "    Returns a flattened list of the inputted iterable.\n",
    "    Parameters\n",
    "    ----------\n",
    "    inp_iter : iterable\n",
    "        The iterable to flatten.\n",
    "    Returns\n",
    "    -------\n",
    "    flattened_iter : list\n",
    "        The contents of the iterable as a flat list\n",
    "    \"\"\"\n",
    "    return list(_flatten(inp_iter))"
   ]
  },
  {
   "cell_type": "markdown",
   "metadata": {},
   "source": [
    "## Compress all distances from all synapses into just one column for each condition. \n",
    "This will generate and save a file which only has as many columns as you do conditions, and all of the distances for one condition will be in the same column."
   ]
  },
  {
   "cell_type": "code",
   "execution_count": 6,
   "metadata": {},
   "outputs": [],
   "source": [
    "Synapse_files = Path('Synapse Files/')\n",
    "distance_directory = Path('Vesicle Distance Files/')\n",
    "if not distance_directory.exists():\n",
    "    distance_directory.mkdir()\n",
    "    \n",
    "assert Synapse_files.exists()\n",
    "\n",
    "df = pd.DataFrame()\n",
    "for condition in Synapse_files.iterdir():\n",
    "    df_sv_dist = pd.DataFrame(\n",
    "        flatten([np.loadtxt(str(Synfolders / 'sv_dist.txt')) \n",
    "                 for Synfolders in condition.iterdir()]),\n",
    "        columns=[condition.name])\n",
    "        \n",
    "    df = pd.concat([df, df_sv_dist], sort=False, axis=1)\n",
    "\n",
    "df.to_csv(str(distance_directory / 'All_conditions.csv'))"
   ]
  },
  {
   "cell_type": "markdown",
   "metadata": {},
   "source": [
    "## Analysis is done! \n",
    "Check under your directory and ensure that you have all excel sheets. There should be a distance excel sheet for each condition containing synapse specific information, and then an excel sheet 'All_conditions' that has the compiled data for each condition. \n"
   ]
  },
  {
   "cell_type": "code",
   "execution_count": 9,
   "metadata": {},
   "outputs": [],
   "source": [
    "ConaSyn = df['ConaSyn'].values\n",
    "aSyn = df['aSyn'].values\n",
    "ConRes = df['ConRes'].values\n",
    "Rescue = df['Rescue'].values"
   ]
  },
  {
   "cell_type": "code",
   "execution_count": null,
   "metadata": {},
   "outputs": [],
   "source": [
    "plt.hist('ConaSyn', 'aSyn', 'ConRes', 'Rescue')"
   ]
  },
  {
   "cell_type": "code",
   "execution_count": null,
   "metadata": {},
   "outputs": [],
   "source": []
  }
 ],
 "metadata": {
  "kernelspec": {
   "display_name": "Python 3",
   "language": "python",
   "name": "python3"
  },
  "language_info": {
   "codemirror_mode": {
    "name": "ipython",
    "version": 3
   },
   "file_extension": ".py",
   "mimetype": "text/x-python",
   "name": "python",
   "nbconvert_exporter": "python",
   "pygments_lexer": "ipython3",
   "version": "3.7.1"
  }
 },
 "nbformat": 4,
 "nbformat_minor": 2
}
